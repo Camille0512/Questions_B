{
 "cells": [
  {
   "cell_type": "markdown",
   "metadata": {},
   "source": [
    "# Question 1"
   ]
  },
  {
   "cell_type": "markdown",
   "metadata": {},
   "source": [
    "Detection of fake commodity: There are a total of 100,000 pairs of shoes of a well-known brand on an e-commerce platform.\n",
    "\n",
    "The official guide price of these shoes is 48 ~ 68 dollars. Now we randomly sample 1,000 pairs from them for inspection, where 100 pairs of shoes with quality or <font color='red'>counterfeit problems</font> are found. The price distribution of the 100 pairs of counterfeit shoes is mainly concentrated on two price points, with <font color='red'>60 pairs for 30 dollars</font> and <font color='red'>40 pairs for 50 dollars</font>. \n",
    "\n",
    "Please give the price point at which you can most likely buy qualified shoes at the lowest price. Prerequisite judgments can be made based on personal understanding of real life."
   ]
  },
  {
   "cell_type": "code",
   "execution_count": 1,
   "metadata": {},
   "outputs": [
    {
     "name": "stdout",
     "output_type": "stream",
     "text": [
      "Possible variances are:\n",
      "10.0\n",
      "6.667\n",
      "6.276\n",
      "6.124\n",
      "6.042\n",
      "5.991\n",
      "5.957\n",
      "5.932\n",
      "5.913\n",
      "5.898\n"
     ]
    }
   ],
   "source": [
    "from numpy import array, mean, std, arange\n",
    "\n",
    "def variance_calculator(left_range: int, right_range: int, n: int):\n",
    "    \"\"\"\n",
    "    Calculate the possible variance of a given range.\n",
    "    left_range: The left side of the interval.\n",
    "    right_range: The right side of the interval.\n",
    "    n: The amount of numbers within the range.\n",
    "    \"\"\"\n",
    "    sim_n, diff, mean_p, prices = n, right_range - left_range, mean([left_range, right_range]), []\n",
    "    for i in range(sim_n + 1):\n",
    "        prices.append(left_range + i * diff / sim_n)\n",
    "    prices = array(prices) - mean_p\n",
    "    print(round(std(prices), 3))\n",
    "\n",
    "p1, p2 = 48, 68\n",
    "print(\"Possible variances are:\")\n",
    "for i in arange(1, 50, 5):\n",
    "    variance_calculator(p1, p2, i)"
   ]
  },
  {
   "cell_type": "markdown",
   "metadata": {},
   "source": [
    "# Assumptions\n",
    "1. The 1,000 samples are uniformly distributed around the official guide price.\n",
    "2. The shoes with counterfeit problems obeys the normal distribution around the given prices.\n",
    "3. The shoes below 30 dollars should not be considered. Because that is far less than official price, which means it is far less than costs to production.\n",
    "4. Only consider the integer prices. The decimals will not change too much, just the accuracy.\n",
    "5. The variance between products has the maximum of 10.\n",
    "<br>Because in real life, the variance of the daily necessities will not be high. These commodities are monopolistic competition market stuffs. Furthermore, the official price is around 48-68 dollars, with difference of 20. Therefore, 10 for maximum variance will be reasonable. <font color=\"sandybrown\">According to the result shown above, it also shows that the maximum possible variance is 10.</font>\n",
    "6. The probabilities of different variance obeys exponential ditribution.\n",
    "<br>Since the parameter of exponential distribution is estimated according to the Poisson distribution of a related probelm, we can estimate the $\\lambda$ parameter according to the probability of counterfeit around price 30 dollars and price 50 dollars as well as the maximum variance assumption.<br>\n",
    "- For 30 dollars: $\\lambda=\\frac{60}{10\\times2}=3$\n",
    "- For 50 dollars: $\\lambda=\\frac{40}{10\\times2}=2$\n",
    "<br>\n",
    "<br>Therefore, the variance probability around 30 dollars and 50 dollars are $X_{30}\\sim Exp(3)$ and $X_{50}\\sim Exp(2)$.\n",
    "7. The distributions range not exceed 20 dollars.\n",
    "<br>Since the probability exceed 20 dollars will be approach to 0, there is no need to analyze those price in this case.\n",
    "<br><font color=\"cornflowerblue\">To be specific, the analysis of price lower than 30 dollars will not be included in this analysis, because that far less than the official price.</font>"
   ]
  },
  {
   "cell_type": "code",
   "execution_count": 2,
   "metadata": {},
   "outputs": [],
   "source": [
    "from scipy.stats import norm\n",
    "import numpy as np\n",
    "from timeit import timeit\n",
    "from tqdm import tqdm\n",
    "import matplotlib.pyplot as plt"
   ]
  },
  {
   "cell_type": "markdown",
   "metadata": {},
   "source": [
    "## Settings"
   ]
  },
  {
   "cell_type": "code",
   "execution_count": 3,
   "metadata": {},
   "outputs": [],
   "source": [
    "# The probability of $30 and $50 counterfeits.\n",
    "prob30, prob50 = 0.06, 0.04\n",
    "# The mean of the counterfeit distributions\n",
    "mu30, mu50 = 30, 50\n",
    "# The simulation times\n",
    "sn = 10000\n",
    "# The lambda value for the $30 and $50 scenario.\n",
    "lambda30, lambda50 = 3, 2\n",
    "# The maximum of variance\n",
    "max_var = 10\n",
    "# Price range\n",
    "P30 = np.arange(30, 51)\n",
    "P50 = np.arange(30, 71)\n",
    "investigate_P = np.arange(30, 71)"
   ]
  },
  {
   "cell_type": "code",
   "execution_count": 4,
   "metadata": {},
   "outputs": [
    {
     "name": "stdout",
     "output_type": "stream",
     "text": [
      "$30: [30 31 32 33 34 35 36 37 38 39 40 41 42 43 44 45 46 47 48 49 50]\n",
      "$50: [30 31 32 33 34 35 36 37 38 39 40 41 42 43 44 45 46 47 48 49 50 51 52 53\n",
      " 54 55 56 57 58 59 60 61 62 63 64 65 66 67 68 69 70]\n"
     ]
    }
   ],
   "source": [
    "print(\"$30:\", P30)\n",
    "print(\"$50:\", P50)"
   ]
  },
  {
   "cell_type": "markdown",
   "metadata": {},
   "source": [
    "## Random simulator number generation"
   ]
  },
  {
   "cell_type": "code",
   "execution_count": 5,
   "metadata": {},
   "outputs": [
    {
     "data": {
      "text/plain": [
       "0.14936120510359183"
      ]
     },
     "execution_count": 5,
     "metadata": {},
     "output_type": "execute_result"
    }
   ],
   "source": [
    "def expon_pdf(x: int, lambda_val: int):\n",
    "    \"\"\"\n",
    "    The PDF function of the exponential distribution.\n",
    "    Get the corresponding probability according to given number and lambda value.\n",
    "    :params x: The given number.\n",
    "    :params lambda_val: The lambda value.\n",
    "    :return: The probability of the given number under given exponential distribution.\n",
    "    \"\"\"\n",
    "    return lambda_val * np.exp(-lambda_val * x) if x >= 0 else 0\n",
    "\n",
    "def expon_num_gen(lambda_val: int, amt: int, scaler: int, std_scale=True):\n",
    "    \"\"\"\n",
    "    Generate exponential distributed random number according to a given exponential distribution.\n",
    "    :params lambda_val: The lambda value.\n",
    "    :params amt: The generated amount of random numbers.\n",
    "    :params scaler: The target scale, which is the generated object.\n",
    "    :params std_scale: Whether to scale the generated exponential number to [0, 1] range.\n",
    "    :return: A list of generated numbers.\n",
    "    \"\"\"\n",
    "    gen_num_list = []\n",
    "    for i in range(amt):\n",
    "        x = np.random.rand()\n",
    "        if std_scale:\n",
    "            prob = expon_pdf(x, lambda_val) / lambda_val # Scale the probability to [0,1]\n",
    "        else:\n",
    "            prob = expon_pdf(x, lambda_val)\n",
    "        gen_num_list.append(round(prob * scaler, 6))\n",
    "    return gen_num_list\n",
    "    \n",
    "expon_pdf(1, 3)"
   ]
  },
  {
   "cell_type": "code",
   "execution_count": 6,
   "metadata": {},
   "outputs": [
    {
     "data": {
      "image/png": "[encoded data removed]",
      "text/plain": [
       "<Figure size 576x360 with 1 Axes>"
      ]
     },
     "metadata": {
      "needs_background": "light"
     },
     "output_type": "display_data"
    },
    {
     "name": "stdout",
     "output_type": "stream",
     "text": [
      "mix:0.497909 max:9.999653\n"
     ]
    }
   ],
   "source": [
    "def distribution_gen_variance(gen_list: list, save_fig=False, fig_name=\"Distrib_variance.png\"):\n",
    "    \"\"\"\n",
    "    Graph the distribution of the generated variances.\n",
    "    :params gen_list: The list of generated numbers.\n",
    "    :params save_fig: Whether to save the graph.\n",
    "    :params fig_name: Graph file name.\n",
    "    \"\"\"\n",
    "    fig = plt.figure(figsize=(8, 5))\n",
    "    plt.hist(gen_list, bins=50, edgecolor=\"white\", label=\"variance\")\n",
    "    plt.legend()\n",
    "    plt.xlabel(\"Variance\")\n",
    "    plt.ylabel(\"Frequences\")\n",
    "    plt.title(\"The Distribution of the Generated Variance\")\n",
    "    plt.show()\n",
    "    print(\"mix:{} max:{}\".format(min(x), max(x)))\n",
    "\n",
    "x = expon_num_gen(3, 10000, 10)\n",
    "distribution_gen_variance(x)"
   ]
  },
  {
   "cell_type": "markdown",
   "metadata": {},
   "source": [
    "## Calculate the probability of counterfeit product on each given price"
   ]
  },
  {
   "cell_type": "code",
   "execution_count": 7,
   "metadata": {},
   "outputs": [
    {
     "data": {
      "text/plain": [
       "0.0"
      ]
     },
     "metadata": {},
     "output_type": "display_data"
    },
    {
     "data": {
      "text/plain": [
       "0.053991"
      ]
     },
     "metadata": {},
     "output_type": "display_data"
    },
    {
     "data": {
      "text/plain": [
       "0.241971"
      ]
     },
     "metadata": {},
     "output_type": "display_data"
    }
   ],
   "source": [
    "def price_fake_prob(p: int, mu: float, sigma: float):\n",
    "    \"\"\"\n",
    "    Calculate the possibility of counterfeit on given price point.\n",
    "    :params p: The given price.\n",
    "    :params mu: The mean value of the normal distribution.\n",
    "    :params sigma: The standard deviation of the normal distribution.\n",
    "    :return: The probability of counterfeit product the given price.\n",
    "    \"\"\"\n",
    "    prob = norm.pdf((p - mu) / sigma)\n",
    "    return round(prob, 6)\n",
    "\n",
    "display(price_fake_prob(60, mu50, 1))\n",
    "display(price_fake_prob(60, mu50, 5))\n",
    "display(price_fake_prob(60, mu50, 10))"
   ]
  },
  {
   "cell_type": "code",
   "execution_count": 8,
   "metadata": {},
   "outputs": [],
   "source": [
    "# Generate variance list of the $30 and $50 correspondingly.\n",
    "vars30 = expon_num_gen(lambda30, sn, max_var)\n",
    "vars50 = expon_num_gen(lambda50, sn, max_var)"
   ]
  },
  {
   "cell_type": "code",
   "execution_count": 9,
   "metadata": {},
   "outputs": [
    {
     "name": "stderr",
     "output_type": "stream",
     "text": [
      "100%|██████████| 21/21 [01:18<00:00,  3.74s/it]\n",
      "100%|██████████| 41/41 [02:13<00:00,  3.26s/it]\n"
     ]
    }
   ],
   "source": [
    "# Get the probability of counterfeit products on each possible, wanted to investigate price.\n",
    "def gen_fake_prob_on_prices(prices: list, variances: list, mu: int):\n",
    "    \"\"\"\n",
    "    Generate the probability of counterfeit products on each price.\n",
    "    :params prices: The price list to be investigated.\n",
    "    :params variances: The variance list of the normal distribution.\n",
    "    :params mu: The mean value of the normal distribution.\n",
    "    :return: The dictionary of counterfeit product probability on each price.\n",
    "    \"\"\"\n",
    "    p_fake_prob = {}\n",
    "    for price in tqdm(prices):\n",
    "        p_fake_prob[price] = [price_fake_prob(price, mu, var) for var in variances]\n",
    "    return p_fake_prob\n",
    "\n",
    "p30_fake_prob = gen_fake_prob_on_prices(P30, vars30, mu30)\n",
    "p50_fake_prob = gen_fake_prob_on_prices(P50, vars50, mu50)"
   ]
  },
  {
   "cell_type": "code",
   "execution_count": 10,
   "metadata": {},
   "outputs": [
    {
     "name": "stdout",
     "output_type": "stream",
     "text": [
      "$ 30 :  0.024131\n",
      "$ 31 :  0.018887\n",
      "$ 32 :  0.013696\n",
      "$ 33 :  0.010664\n",
      "$ 34 :  0.008625\n",
      "$ 35 :  0.007165\n",
      "$ 36 :  0.006103\n",
      "$ 37 :  0.005345\n",
      "$ 38 :  0.004836\n",
      "$ 39 :  0.004545\n",
      "$ 40 :  0.004454\n",
      "$ 41 :  0.004559\n",
      "$ 42 :  0.004864\n",
      "$ 43 :  0.005384\n",
      "$ 44 :  0.006149\n",
      "$ 45 :  0.007211\n",
      "$ 46 :  0.008659\n",
      "$ 47 :  0.010598\n",
      "$ 48 :  0.012980\n",
      "$ 49 :  0.015216\n",
      "$ 50 :  0.016147\n",
      "$ 51 :  0.014967\n",
      "$ 52 :  0.012655\n",
      "$ 53 :  0.010175\n",
      "$ 54 :  0.008115\n",
      "$ 55 :  0.006514\n",
      "$ 56 :  0.005261\n",
      "$ 57 :  0.004261\n",
      "$ 58 :  0.003451\n",
      "$ 59 :  0.002791\n",
      "$ 60 :  0.002250\n",
      "$ 61 :  0.001806\n",
      "$ 62 :  0.001444\n",
      "$ 63 :  0.001148\n",
      "$ 64 :  0.000908\n",
      "$ 65 :  0.000713\n",
      "$ 66 :  0.000557\n",
      "$ 67 :  0.000432\n",
      "$ 68 :  0.000333\n",
      "$ 69 :  0.000255\n",
      "$ 70 :  0.000194\n"
     ]
    }
   ],
   "source": [
    "def MCS_price_prob(price_range: list, **kwargs):\n",
    "    \"\"\"\n",
    "    Monte Carlo Simulation to calculate the average probability of counterfeiting on each price.\n",
    "    :params price_range: The price range list includes all the prices to be investigated.\n",
    "    :params args: The counterfeit probabilities.\n",
    "    :return: The simulation estimated probability of each price.\n",
    "    \"\"\"\n",
    "    avg_prob = {}\n",
    "    for price in price_range:\n",
    "        group_prob = {}\n",
    "        for name, prob_dict in kwargs.items():\n",
    "            prob_list = prob_dict[0].get(price) if prob_dict[0].get(price) is not None else [0]\n",
    "            mean_prob = mean(prob_list)\n",
    "            group_prob[name] = mean_prob * prob_dict[1]\n",
    "        avg_prob[price] = sum(group_prob.values())\n",
    "        print(f'${price: 3} : {avg_prob[price]: 6f}')\n",
    "    return avg_prob\n",
    "\n",
    "avg_prob = MCS_price_prob(investigate_P, price30=[p30_fake_prob, prob30], price50=[p50_fake_prob, prob50])"
   ]
  },
  {
   "cell_type": "code",
   "execution_count": 11,
   "metadata": {},
   "outputs": [
    {
     "data": {
      "image/png": "[encoded data removed]",
      "text/plain": [
       "<Figure size 1152x576 with 1 Axes>"
      ]
     },
     "metadata": {
      "needs_background": "light"
     },
     "output_type": "display_data"
    }
   ],
   "source": [
    "def graph_price_prob_distrib(price_prob: dict, display_p_label=True, interval=1, save_fig=False, figname=\"Prob_distrib.png\"):\n",
    "    \"\"\"\n",
    "    Graph the probability on each price.\n",
    "    :params price_prob: The price probability dictionary with price as key, probability as values.\n",
    "    :params display_p_label: Whether to display the point label on the graph.\n",
    "    :params interval: The intervals for each labeled point.\n",
    "    :params save_fig: Whether to save the graph.\n",
    "    :params figname: Graph file name.\n",
    "    \"\"\"\n",
    "    x, y = list(price_prob.keys()), list(price_prob.values())\n",
    "    fig = plt.figure(figsize=(16, 8))\n",
    "    plt.plot(x, y, marker=\"*\")\n",
    "    if display_p_label:\n",
    "        for e, (a,b) in enumerate(zip(x, y)):\n",
    "            if e % interval == 0:\n",
    "                plt.text(a, round(b, 3), (a, round(b, 3)))\n",
    "    plt.xlabel(\"Prices\", fontsize=15)\n",
    "    plt.ylabel(\"Probability\", fontsize=15)\n",
    "    plt.xticks(fontsize=12)\n",
    "    plt.yticks(fontsize=12)\n",
    "    plt.title(\"The Probability of Counterfeit Products on Different Prices\", fontsize=20)\n",
    "    if save_fig:\n",
    "        plt.savefig(figname)\n",
    "    else:\n",
    "        plt.show()\n",
    "\n",
    "graph_price_prob_distrib(avg_prob, interval=3)"
   ]
  },
  {
   "cell_type": "markdown",
   "metadata": {},
   "source": [
    "## Find the best probability"
   ]
  },
  {
   "cell_type": "code",
   "execution_count": 12,
   "metadata": {},
   "outputs": [
    {
     "name": "stdout",
     "output_type": "stream",
     "text": [
      "The optimized local price is 40, and the probability is 0.0045\n",
      "The optimized global price is 70, and the probability is 0.0002\n"
     ]
    }
   ],
   "source": [
    "def find_best_prob(probability: dict):\n",
    "    \"\"\"\n",
    "    Find the local and global optimized price and corresponding  probabilities.\n",
    "    :params probs: The dictionary of prices and corresponding probabilities.\n",
    "    :return: Both the local and global optimized price and corresponding probabilities.\n",
    "    \"\"\"\n",
    "    local_opt, global_opt, local_p, global_p = float(\"inf\"), float(\"inf\"), 0, 0\n",
    "    for e, (price, prob) in enumerate(probability.items()):\n",
    "        if local_opt > prob and local_p == e:\n",
    "            local_opt = prob\n",
    "            local_p += 1\n",
    "        if global_opt > prob:\n",
    "            global_opt = prob\n",
    "            global_p = e\n",
    "    prob_list = list(probability.keys())\n",
    "    return prob_list[local_p - 1], round(local_opt, 4), prob_list[global_p], round(global_opt, 4)\n",
    "\n",
    "local_price, local_opt, global_price, global_opt = find_best_prob(avg_prob)\n",
    "print(\"The optimized local price is {}, and the probability is {}\".format(local_price, local_opt))\n",
    "print(\"The optimized global price is {}, and the probability is {}\".format(global_price, global_opt))"
   ]
  }
 ],
 "metadata": {
  "kernelspec": {
   "display_name": "Python 3",
   "language": "python",
   "name": "python3"
  },
  "language_info": {
   "codemirror_mode": {
    "name": "ipython",
    "version": 3
   },
   "file_extension": ".py",
   "mimetype": "text/x-python",
   "name": "python",
   "nbconvert_exporter": "python",
   "pygments_lexer": "ipython3",
   "version": "3.7.6"
  }
 },
 "nbformat": 4,
 "nbformat_minor": 4
}
